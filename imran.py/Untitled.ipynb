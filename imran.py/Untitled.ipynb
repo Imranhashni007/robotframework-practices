{
 "cells": [
  {
   "cell_type": "code",
   "execution_count": null,
   "id": "e57d8135-71ed-4e4c-b630-83f8e276d000",
   "metadata": {},
   "outputs": [],
   "source": [
    "def accessing_python_file():\n",
    "    print (\"hellow\")"
   ]
  }
 ],
 "metadata": {
  "kernelspec": {
   "display_name": "Python 3",
   "language": "python",
   "name": "python3"
  },
  "language_info": {
   "codemirror_mode": {
    "name": "ipython",
    "version": 3
   },
   "file_extension": ".py",
   "mimetype": "text/x-python",
   "name": "python",
   "nbconvert_exporter": "python",
   "pygments_lexer": "ipython3",
   "version": "3.7.5"
  }
 },
 "nbformat": 4,
 "nbformat_minor": 5
}
